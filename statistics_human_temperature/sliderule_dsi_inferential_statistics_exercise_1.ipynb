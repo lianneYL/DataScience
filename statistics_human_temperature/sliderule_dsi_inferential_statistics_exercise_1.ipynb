{
 "cells": [
  {
   "cell_type": "markdown",
   "metadata": {},
   "source": [
    "# What is the True Normal Human Body Temperature? \n",
    "\n",
    "#### Background\n",
    "\n",
    "The mean normal body temperature was held to be 37$^{\\circ}$C or 98.6$^{\\circ}$F for more than 120 years since it was first conceptualized and reported by Carl Wunderlich in a famous 1868 book. But, is this value statistically correct?"
   ]
  },
  {
   "cell_type": "markdown",
   "metadata": {},
   "source": [
    "<div class=\"span5 alert alert-info\">\n",
    "<h3>Exercises</h3>\n",
    "\n",
    "<p>In this exercise, you will analyze a dataset of human body temperatures and employ the concepts of hypothesis testing, confidence intervals, and statistical significance.</p>\n",
    "\n",
    "<p>Answer the following questions <b>in this notebook below and submit to your Github account</b>.</p> \n",
    "\n",
    "<ol>\n",
    "<li>  Is the distribution of body temperatures normal? \n",
    "    <ul>\n",
    "    <li> Although this is not a requirement for CLT to hold (read CLT carefully), it gives us some peace of mind that the population may also be normally distributed if we assume that this sample is representative of the population.\n",
    "    </ul>\n",
    "<li>  Is the sample size large? Are the observations independent?\n",
    "    <ul>\n",
    "    <li> Remember that this is a condition for the CLT, and hence the statistical tests we are using, to apply.\n",
    "    </ul>\n",
    "<li>  Is the true population mean really 98.6 degrees F?\n",
    "    <ul>\n",
    "    <li> Would you use a one-sample or two-sample test? Why?\n",
    "    <li> In this situation, is it appropriate to use the $t$ or $z$ statistic? \n",
    "    <li> Now try using the other test. How is the result be different? Why?\n",
    "    </ul>\n",
    "<li>  At what temperature should we consider someone's temperature to be \"abnormal\"?\n",
    "    <ul>\n",
    "    <li> Start by computing the margin of error and confidence interval.\n",
    "    </ul>\n",
    "<li>  Is there a significant difference between males and females in normal temperature?\n",
    "    <ul>\n",
    "    <li> What test did you use and why?\n",
    "    <li> Write a story with your conclusion in the context of the original problem.\n",
    "    </ul>\n",
    "</ol>\n",
    "\n",
    "You can include written notes in notebook cells using Markdown: \n",
    "   - In the control panel at the top, choose Cell > Cell Type > Markdown\n",
    "   - Markdown syntax: http://nestacms.com/docs/creating-content/markdown-cheat-sheet\n",
    "\n",
    "#### Resources\n",
    "\n",
    "+ Information and data sources: http://www.amstat.org/publications/jse/datasets/normtemp.txt, http://www.amstat.org/publications/jse/jse_data_archive.htm\n",
    "+ Markdown syntax: http://nestacms.com/docs/creating-content/markdown-cheat-sheet\n",
    "\n",
    "****\n",
    "</div>"
   ]
  },
  {
   "cell_type": "code",
   "execution_count": 1,
   "metadata": {
    "collapsed": true
   },
   "outputs": [],
   "source": [
    "import pandas as pd\n",
    "\n",
    "#Load the dataset\n",
    "df = pd.read_csv('/.../human_body_temperature.csv')"
   ]
  },
  {
   "cell_type": "markdown",
   "metadata": {},
   "source": [
    "# Normality Testing \n",
    "\n",
    "Check if the body temperature is normally distributed.\n",
    "\n",
    "- First, plot out body temperature in histogram to have a look at body temperature distribution.\n",
    "\n",
    "- Then, use Kurtosis normality testing to see if the body temperature is normal distribution."
   ]
  },
  {
   "cell_type": "code",
   "execution_count": 52,
   "metadata": {},
   "outputs": [
    {
     "data": {
      "image/png": "[encoded data removed]",
      "text/plain": [
       "<matplotlib.figure.Figure at 0x1a18187128>"
      ]
     },
     "metadata": {},
     "output_type": "display_data"
    }
   ],
   "source": [
    "#Check if the body temperature is normally distributed\n",
    "\n",
    "import matplotlib.pyplot as plt\n",
    "\n",
    "#Fist, present the body temperatures in histogram\n",
    "_ = plt.hist(df.temperature)\n",
    "_ = plt.xlabel('Temperature')\n",
    "_ = plt.ylabel('Frequency (Count)')\n",
    "plt.show()\n"
   ]
  },
  {
   "cell_type": "markdown",
   "metadata": {},
   "source": [
    "From the above histogram, the body temperature seems to be normally distributed. However, we will need to verify our assumption by statistical analysis. Kurtosis is a normality testing that helps us determine if the sample is normal distribution. Kurtosis = 3 means the sample is normal distribution. \n"
   ]
  },
  {
   "cell_type": "code",
   "execution_count": 24,
   "metadata": {},
   "outputs": [
    {
     "name": "stdout",
     "output_type": "stream",
     "text": [
      "Normal distribution\n"
     ]
    }
   ],
   "source": [
    "#Second, check for normality using Kurtosis.\n",
    "from scipy import stats\n",
    "\n",
    "#k is Kurtosis to test if the data is normally distributed. P is p-value.\n",
    "#K = 3 is normal distribution.\n",
    "k, p = stats.mstats.normaltest(df.temperature) \n",
    "\n",
    "if p < 0.05:\n",
    "    print('Not normal distribution')\n",
    "else:\n",
    "    print('Normal distribution')\n",
    "   "
   ]
  },
  {
   "cell_type": "markdown",
   "metadata": {},
   "source": [
    "**Is the distribution of body temperature normal?**\n",
    "\n",
    "Based on Kurtosis normality testing, we can know that the data is normally distributed.\n"
   ]
  },
  {
   "cell_type": "markdown",
   "metadata": {},
   "source": [
    "**Is the sample size large? Are the observations independent?**\n",
    "\n",
    "The sample size is 130 and is bigger than 30. Thus, we can consider the sample size is large enough for our analysis.\n",
    "The observations are independent since the body temperatures were randomly selected and body temperatures are not categorical variable. So we don't need to check the relationship between two categorical variables.     \n"
   ]
  },
  {
   "attachments": {},
   "cell_type": "markdown",
   "metadata": {},
   "source": [
    "# One-sample Z-test\n",
    "\n",
    "**Should we use one-sample or two-sample test? Why?**\n",
    "**Use t or z statistic?**\n",
    "\n",
    "We should use one-sample z-test. We use one-sample test because the sample itself is a single treatment group and \n",
    "the goal is to see if the population mean of the treatment group is significant different from 98.6F.\n",
    "In addition, when the sample size is greater than 30, we should consider using z-test. \n",
    "\n",
    "#### One-sample z-test\n",
    "\n",
    "We will need\n",
    "- sample size  n\n",
    "- sample mean  x̄  \n",
    "- standard deviation  σ\n",
    "- standard error of mean  σ/√n \n",
    "- mean body temperature  μ0 = 98.6"
   ]
  },
  {
   "cell_type": "code",
   "execution_count": 25,
   "metadata": {},
   "outputs": [
    {
     "name": "stdout",
     "output_type": "stream",
     "text": [
      "size:  130\n",
      "mean:  98.24923076923078\n",
      "standard deviation:  0.7303577789050377\n",
      "standard error of mean:  0.0640566146952\n"
     ]
    }
   ],
   "source": [
    "#Now we look into the data to get the basic statistics \n",
    "import numpy as np\n",
    "\n",
    "n = len(df.temperature) #Sample size\n",
    "print('size: ', n)\n",
    "\n",
    "mean = np.mean(df.temperature) #Sample mean\n",
    "print('mean: ', mean)\n",
    "\n",
    "\n",
    "std = np.std(df.temperature) #Standard deviation\n",
    "print('standard deviation: ', std)\n",
    "\n",
    "\n",
    "std_sample = std/np.sqrt(n) #Standard error of mean\n",
    "print('standard error of mean: ', std_sample)\n"
   ]
  },
  {
   "cell_type": "markdown",
   "metadata": {},
   "source": [
    "\n",
    "The population meas is held to be 98.6F. Calculate z-statistic with hypothesis & alternative hypothesis as following, \n",
    "##### H0: μ = 98.6, H1: μ ≠ 98.6\n"
   ]
  },
  {
   "cell_type": "code",
   "execution_count": 31,
   "metadata": {},
   "outputs": [
    {
     "name": "stdout",
     "output_type": "stream",
     "text": [
      "Z-statistic:  -5.47592520208\n",
      "p-value:  4.35231516588e-08\n"
     ]
    }
   ],
   "source": [
    "#Z-statistic:\n",
    "z = (mean-98.6) / (std/np.sqrt(n))\n",
    "print('Z-statistic: ', z)\n",
    "\n",
    "#P-value\n",
    "from scipy.stats import norm\n",
    "p_values = norm.sf(abs(z))*2 #two-tails\n",
    "print('p-value: ', p_values) \n"
   ]
  },
  {
   "cell_type": "markdown",
   "metadata": {},
   "source": [
    "**Is the true population mean really 98.6 degrees F?**\n",
    "\n",
    "- Based on one-sample z-test, the p-value is 0.0000000435231516588 and z-statistic is -5.47592520208. \n",
    "\n",
    "- With 95% confidence interval and p-value is < 0.05, we cannot accept the null hypothesis. \n",
    "\n",
    "- Therefore, we consider the true population mean is not 98.6F."
   ]
  },
  {
   "cell_type": "markdown",
   "metadata": {},
   "source": [
    "**At what temperature should we consider someone's temperature to be 'abnormal'?**\n",
    "\n",
    "- The normal body temperature is between [ 98.1236798, 98.37478173 ]\n",
    "\n",
    "- People with temperatures < 98.1236798 F, or > 98.37478173 F are considered having abnormal body temperature.\n"
   ]
  },
  {
   "cell_type": "markdown",
   "metadata": {},
   "source": [
    "**What is the margin of error and confidence interval?**\n",
    "\n",
    "- The margin of error is **Critical Value * Standard Error of the Sample**\n",
    "\n",
    "- With 95% of confidence interval, the critical value is 1.96. The SE is 0.0640566146952 as we calculated before.\n",
    "\n",
    "- The margin of error is 1.96 x 0.0640566146952 \n",
    "\n",
    "- Confidence interval is [98.6 - 1.96 x 0.0640566146952, 98.6 + 1.96 x 0.0640566146952 ]"
   ]
  },
  {
   "cell_type": "code",
   "execution_count": 48,
   "metadata": {},
   "outputs": [
    {
     "name": "stdout",
     "output_type": "stream",
     "text": [
      "With 95% confidence interval, the normal body temperature is between  [ 98.1236798   98.37478173]\n",
      "Margin of Error:  0.125550964803\n"
     ]
    }
   ],
   "source": [
    "#With 95% confidence interval, we can know the normal body temperature is between 98.1236798044 and 98.374781734.\n",
    "normal_body_temperature_low = mean - 1.96*std_sample \n",
    "normal_body_temperature_high = mean + 1.96*std_sample \n",
    "print('With 95% confidence interval, the normal body temperature is between ', np.array([normal_body_temperature_low, normal_body_temperature_high]))\n",
    "\n",
    "#The margin of error is\n",
    "print('Margin of Error: ', 1.96*std_sample)     \n"
   ]
  },
  {
   "cell_type": "markdown",
   "metadata": {},
   "source": [
    "## Male v.s. Female Body Temperature\n",
    "**Is there a significant difference between males and females in normal temperature?**  \n",
    "\n",
    "We use paired-sample z-test. Since our goal is to see if there is a significant body temperature difference between males and females.\n",
    "\n",
    "The null hypothesis is 'the mean body temperature of males and females is not significant different than 0'\n",
    "\n",
    "##### H0 : male µ = female µ,   H1 : male µ ≠ female µ\n"
   ]
  },
  {
   "cell_type": "code",
   "execution_count": 35,
   "metadata": {
    "collapsed": true
   },
   "outputs": [],
   "source": [
    "#Subset male and female body temperature\n",
    "male_df = df.loc[df['gender'] == 'M']\n",
    "female_df = df.loc[df['gender'] == 'F']\n"
   ]
  },
  {
   "attachments": {},
   "cell_type": "markdown",
   "metadata": {},
   "source": [
    "\n",
    "#### Paired-sample z-test\n",
    "We will need male and female\n",
    "\n",
    "-  sample size n\n",
    "-  mean body temperature x̄1, x̄2\n",
    "-  standard deviation σ\n",
    "-  standard error of the sample σ/√n\n",
    "-  according to null hypothesis μ1 - μ2 = 0"
   ]
  },
  {
   "cell_type": "code",
   "execution_count": 49,
   "metadata": {},
   "outputs": [
    {
     "name": "stdout",
     "output_type": "stream",
     "text": [
      "Mean male boby temperature:  98.1046153846154\n",
      "Male sample size:  65\n",
      "Male standard deviation:  0.6933598841828696\n",
      "Male standard error of the sample:  0.0860007092094\n",
      "Mean female body temperature:  98.39384615384613\n",
      "Female sample size:  65\n",
      "Female standard deviation:  0.7377464486428966\n",
      "Female standard error of the sample:  0.0915061849516\n"
     ]
    }
   ],
   "source": [
    "#Calculate male body temperature  \n",
    "mean_male_bodyTemperature = np.mean(male_df.temperature)\n",
    "print('Mean male boby temperature: ', mean_male_bodyTemperature)\n",
    "\n",
    "#Male sample size\n",
    "male_sample = len(male_df)\n",
    "print('Male sample size: ', male_sample)\n",
    "\n",
    "#Male standard deviation and standard error of the sample\n",
    "male_std = np.std(male_df.temperature)\n",
    "male_se = male_std/np.sqrt(male_sample)\n",
    "print('Male standard deviation: ', male_std)\n",
    "print('Male standard error of the sample: ', male_se)\n",
    "\n",
    "\n",
    "#Calculate female mean body temperature  \n",
    "mean_female_bodyTemperature = np.mean(female_df.temperature)\n",
    "print('Mean female body temperature: ', mean_female_bodyTemperature)\n",
    "\n",
    "#Female sample size\n",
    "female_sample = len(female_df)\n",
    "print('Female sample size: ', female_sample)\n",
    "\n",
    "#Female standard deviation and standard error of the sample\n",
    "female_std = np.std(female_df.temperature)\n",
    "female_se = female_std/np.sqrt(female_sample)\n",
    "print('Female standard deviation: ', female_std)\n",
    "print('Female standard error of the sample: ', female_se)\n"
   ]
  },
  {
   "cell_type": "code",
   "execution_count": 51,
   "metadata": {},
   "outputs": [
    {
     "name": "stdout",
     "output_type": "stream",
     "text": [
      "Standard error of the differences between male & female is:  0.125576685212\n"
     ]
    }
   ],
   "source": [
    "#Calculate standard error of the differences between male & female\n",
    "sd_diff = np.sqrt(male_se**2 + female_se**2)\n",
    "\n",
    "print('Standard error of the differences between male & female is: ', sd_diff)\n"
   ]
  },
  {
   "cell_type": "code",
   "execution_count": 46,
   "metadata": {},
   "outputs": [
    {
     "name": "stdout",
     "output_type": "stream",
     "text": [
      "z-score:  -2.30322028919\n",
      "p-value:  0.0212664518301\n"
     ]
    }
   ],
   "source": [
    "#Calculate z-score and p-value\n",
    "z = ((mean_male_bodyTemperature - mean_female_bodyTemperature) - 0) / sd_diff\n",
    "p_values = norm.sf(abs(z))*2 #twosided\n",
    "\n",
    "\n",
    "print('z-score: ', z)\n",
    "print('p-value: ', p_values)\n"
   ]
  },
  {
   "cell_type": "markdown",
   "metadata": {},
   "source": [
    "**Finally, is there a significant difference between males and females in normal temperature?**  \n",
    "\n",
    "- With 95% confidence interval, reject null hypothesis if z < -1.96 or z > 1.96\n",
    "\n",
    "- z-score is -2.30322028919. Thus, reject null hypothesis since z-score is < -1.96\n",
    "\n",
    "- The paired-sample z-test tells us that there is a significant difference between male and female body temperature.\n"
   ]
  },
  {
   "cell_type": "code",
   "execution_count": null,
   "metadata": {
    "collapsed": true
   },
   "outputs": [],
   "source": []
  }
 ],
 "metadata": {
  "kernelspec": {
   "display_name": "Python 3",
   "language": "python",
   "name": "python3"
  },
  "language_info": {
   "codemirror_mode": {
    "name": "ipython",
    "version": 3
   },
   "file_extension": ".py",
   "mimetype": "text/x-python",
   "name": "python",
   "nbconvert_exporter": "python",
   "pygments_lexer": "ipython3",
   "version": "3.6.2"
  }
 },
 "nbformat": 4,
 "nbformat_minor": 1
}
